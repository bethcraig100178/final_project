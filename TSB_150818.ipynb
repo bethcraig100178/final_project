{
 "cells": [
  {
   "cell_type": "markdown",
   "metadata": {},
   "source": [
    "## Functions"
   ]
  },
  {
   "cell_type": "code",
   "execution_count": 233,
   "metadata": {
    "collapsed": false
   },
   "outputs": [],
   "source": [
    "def yes_no_every_second(start, finish): #creates an  entry for every second of the day between 5am (18000) and 8pm (72000), 1 for a yes and 0 for a no \n",
    "    i = 18000  # ie starts at 5am\n",
    "    yes_list = []\n",
    "    while i < 72000: # ends the time span at 8pm and prevents traceback error for behaviours that are not recorded in a given day\n",
    "        for s in range(0, len(start)): # len(start) is the number of instances of the behaviour recorded that day\n",
    "            if  i == int(start[s]) or i == int(finish[s]): # this deals with the start and finish time of a behaviour instance\n",
    "                yes_list.append(1)\n",
    "                #print 'yes', i\n",
    "            elif i > int(start[s]) and i < int(finish[s]): #deals with seconds in between a start and finish time\n",
    "                yes_list.append(1)\n",
    "                #print 'yes', i\n",
    "            elif s-1 >= 0 and i > int(finish[s-1]) and i < int(start[s]):\n",
    "                yes_list.append(0)\n",
    "                #print 'no', i\n",
    "            elif s == (len(start) -1) and i > int(finish[s]):\n",
    "                yes_list.append(0)\n",
    "                #print 'no', i\n",
    "            elif s == 0 and i < int(start[s]):\n",
    "                yes_list.append(0)\n",
    "                #print 'no', i\n",
    "                \n",
    "        i = i + 1\n",
    "    #print len(yes_list)\n",
    "    return yes_list"
   ]
  },
  {
   "cell_type": "markdown",
   "metadata": {},
   "source": [
    "## Import Packages and set working directory"
   ]
  },
  {
   "cell_type": "code",
   "execution_count": 234,
   "metadata": {
    "collapsed": false
   },
   "outputs": [],
   "source": [
    "import os\n",
    "import numpy as np\n",
    "import pandas as pd\n",
    "import datetime\n",
    "import matplotlib.pyplot as plt\n",
    "os.chdir(\"C:/Users/bethc/Desktop/DBS/DBS_Project/Data\")\n"
   ]
  },
  {
   "cell_type": "markdown",
   "metadata": {},
   "source": [
    "## Read in the data and name the columns"
   ]
  },
  {
   "cell_type": "code",
   "execution_count": 235,
   "metadata": {
    "collapsed": false
   },
   "outputs": [],
   "source": [
    "#read in required columns from csv file and name columns\n",
    "col_names =['DayNo', 'Date', 'Behaviour', 'StartTime', 'FinishTime']\n",
    "zoo = pd.read_csv(\"master_data_for_python_test.csv\", header = None, usecols=[0, 1,3,4,5], names=col_names, parse_dates = ['Date'])\n",
    "zoo = zoo.iloc[0:773]"
   ]
  },
  {
   "cell_type": "markdown",
   "metadata": {},
   "source": [
    "## Check everything is as it should be"
   ]
  },
  {
   "cell_type": "code",
   "execution_count": 236,
   "metadata": {
    "collapsed": false
   },
   "outputs": [
    {
     "name": "stdout",
     "output_type": "stream",
     "text": [
      "<class 'pandas.core.frame.DataFrame'>\n",
      "RangeIndex: 773 entries, 0 to 772\n",
      "Data columns (total 5 columns):\n",
      "DayNo         773 non-null float64\n",
      "Date          773 non-null datetime64[ns]\n",
      "Behaviour     773 non-null object\n",
      "StartTime     773 non-null object\n",
      "FinishTime    773 non-null object\n",
      "dtypes: datetime64[ns](1), float64(1), object(3)\n",
      "memory usage: 30.3+ KB\n"
     ]
    }
   ],
   "source": [
    "zoo.info()"
   ]
  },
  {
   "cell_type": "code",
   "execution_count": 237,
   "metadata": {
    "collapsed": false
   },
   "outputs": [
    {
     "data": {
      "text/html": [
       "<div>\n",
       "<table border=\"1\" class=\"dataframe\">\n",
       "  <thead>\n",
       "    <tr style=\"text-align: right;\">\n",
       "      <th></th>\n",
       "      <th>DayNo</th>\n",
       "      <th>Date</th>\n",
       "      <th>Behaviour</th>\n",
       "      <th>StartTime</th>\n",
       "      <th>FinishTime</th>\n",
       "    </tr>\n",
       "  </thead>\n",
       "  <tbody>\n",
       "    <tr>\n",
       "      <th>0</th>\n",
       "      <td>1.0</td>\n",
       "      <td>2017-08-14</td>\n",
       "      <td>LY</td>\n",
       "      <td>05:00:00</td>\n",
       "      <td>06:09:03</td>\n",
       "    </tr>\n",
       "    <tr>\n",
       "      <th>1</th>\n",
       "      <td>1.0</td>\n",
       "      <td>2017-08-14</td>\n",
       "      <td>FO</td>\n",
       "      <td>06:09:03</td>\n",
       "      <td>06:09:52</td>\n",
       "    </tr>\n",
       "    <tr>\n",
       "      <th>2</th>\n",
       "      <td>1.0</td>\n",
       "      <td>2017-08-14</td>\n",
       "      <td>SC</td>\n",
       "      <td>06:09:52</td>\n",
       "      <td>06:10:08</td>\n",
       "    </tr>\n",
       "    <tr>\n",
       "      <th>3</th>\n",
       "      <td>1.0</td>\n",
       "      <td>2017-08-14</td>\n",
       "      <td>FO</td>\n",
       "      <td>06:10:08</td>\n",
       "      <td>06:11:21</td>\n",
       "    </tr>\n",
       "    <tr>\n",
       "      <th>4</th>\n",
       "      <td>1.0</td>\n",
       "      <td>2017-08-14</td>\n",
       "      <td>AR</td>\n",
       "      <td>06:11:21</td>\n",
       "      <td>06:15:46</td>\n",
       "    </tr>\n",
       "  </tbody>\n",
       "</table>\n",
       "</div>"
      ],
      "text/plain": [
       "   DayNo       Date Behaviour StartTime FinishTime\n",
       "0    1.0 2017-08-14        LY  05:00:00   06:09:03\n",
       "1    1.0 2017-08-14        FO  06:09:03   06:09:52\n",
       "2    1.0 2017-08-14        SC  06:09:52   06:10:08\n",
       "3    1.0 2017-08-14        FO  06:10:08   06:11:21\n",
       "4    1.0 2017-08-14        AR  06:11:21   06:15:46"
      ]
     },
     "execution_count": 237,
     "metadata": {},
     "output_type": "execute_result"
    }
   ],
   "source": [
    "#take a look to make sure everything loaded correctly\n",
    "zoo.head()"
   ]
  },
  {
   "cell_type": "markdown",
   "metadata": {},
   "source": [
    "## Convert Start and Finish times to seconds"
   ]
  },
  {
   "cell_type": "code",
   "execution_count": 238,
   "metadata": {
    "collapsed": false
   },
   "outputs": [
    {
     "data": {
      "text/html": [
       "<div>\n",
       "<table border=\"1\" class=\"dataframe\">\n",
       "  <thead>\n",
       "    <tr style=\"text-align: right;\">\n",
       "      <th></th>\n",
       "      <th>DayNo</th>\n",
       "      <th>Date</th>\n",
       "      <th>Behaviour</th>\n",
       "      <th>StartTime</th>\n",
       "      <th>FinishTime</th>\n",
       "      <th>start_time</th>\n",
       "      <th>finish_time</th>\n",
       "    </tr>\n",
       "  </thead>\n",
       "  <tbody>\n",
       "    <tr>\n",
       "      <th>0</th>\n",
       "      <td>1.0</td>\n",
       "      <td>2017-08-14</td>\n",
       "      <td>LY</td>\n",
       "      <td>05:00:00</td>\n",
       "      <td>06:09:03</td>\n",
       "      <td>18000</td>\n",
       "      <td>22143</td>\n",
       "    </tr>\n",
       "    <tr>\n",
       "      <th>1</th>\n",
       "      <td>1.0</td>\n",
       "      <td>2017-08-14</td>\n",
       "      <td>FO</td>\n",
       "      <td>06:09:03</td>\n",
       "      <td>06:09:52</td>\n",
       "      <td>22143</td>\n",
       "      <td>22192</td>\n",
       "    </tr>\n",
       "    <tr>\n",
       "      <th>2</th>\n",
       "      <td>1.0</td>\n",
       "      <td>2017-08-14</td>\n",
       "      <td>SC</td>\n",
       "      <td>06:09:52</td>\n",
       "      <td>06:10:08</td>\n",
       "      <td>22192</td>\n",
       "      <td>22208</td>\n",
       "    </tr>\n",
       "    <tr>\n",
       "      <th>3</th>\n",
       "      <td>1.0</td>\n",
       "      <td>2017-08-14</td>\n",
       "      <td>FO</td>\n",
       "      <td>06:10:08</td>\n",
       "      <td>06:11:21</td>\n",
       "      <td>22208</td>\n",
       "      <td>22281</td>\n",
       "    </tr>\n",
       "    <tr>\n",
       "      <th>4</th>\n",
       "      <td>1.0</td>\n",
       "      <td>2017-08-14</td>\n",
       "      <td>AR</td>\n",
       "      <td>06:11:21</td>\n",
       "      <td>06:15:46</td>\n",
       "      <td>22281</td>\n",
       "      <td>22546</td>\n",
       "    </tr>\n",
       "  </tbody>\n",
       "</table>\n",
       "</div>"
      ],
      "text/plain": [
       "   DayNo       Date Behaviour StartTime FinishTime  start_time  finish_time\n",
       "0    1.0 2017-08-14        LY  05:00:00   06:09:03       18000        22143\n",
       "1    1.0 2017-08-14        FO  06:09:03   06:09:52       22143        22192\n",
       "2    1.0 2017-08-14        SC  06:09:52   06:10:08       22192        22208\n",
       "3    1.0 2017-08-14        FO  06:10:08   06:11:21       22208        22281\n",
       "4    1.0 2017-08-14        AR  06:11:21   06:15:46       22281        22546"
      ]
     },
     "execution_count": 238,
     "metadata": {},
     "output_type": "execute_result"
    }
   ],
   "source": [
    "#convert start and finish time to seconds\n",
    "zoo['start_time'] = pd.to_timedelta(zoo.StartTime)\n",
    "zoo['start_time'] = zoo['start_time'].dt.total_seconds().astype(int)\n",
    "\n",
    "\n",
    "zoo['finish_time'] = pd.to_timedelta(zoo.FinishTime)\n",
    "zoo['finish_time'] = zoo['finish_time'].dt.total_seconds().astype(int)\n",
    "\n",
    "zoo.head()\n"
   ]
  },
  {
   "cell_type": "code",
   "execution_count": 239,
   "metadata": {
    "collapsed": false
   },
   "outputs": [
    {
     "data": {
      "text/html": [
       "<div>\n",
       "<table border=\"1\" class=\"dataframe\">\n",
       "  <thead>\n",
       "    <tr style=\"text-align: right;\">\n",
       "      <th></th>\n",
       "      <th>DayNo</th>\n",
       "      <th>Date</th>\n",
       "      <th>Behaviour</th>\n",
       "      <th>StartTime</th>\n",
       "      <th>FinishTime</th>\n",
       "      <th>start_time</th>\n",
       "      <th>finish_time</th>\n",
       "    </tr>\n",
       "  </thead>\n",
       "  <tbody>\n",
       "    <tr>\n",
       "      <th>23</th>\n",
       "      <td>1.0</td>\n",
       "      <td>2017-08-14</td>\n",
       "      <td>SW</td>\n",
       "      <td>07:00:14</td>\n",
       "      <td>07:00:47</td>\n",
       "      <td>25214</td>\n",
       "      <td>25247</td>\n",
       "    </tr>\n",
       "    <tr>\n",
       "      <th>25</th>\n",
       "      <td>1.0</td>\n",
       "      <td>2017-08-14</td>\n",
       "      <td>SW</td>\n",
       "      <td>07:00:58</td>\n",
       "      <td>07:04:55</td>\n",
       "      <td>25258</td>\n",
       "      <td>25495</td>\n",
       "    </tr>\n",
       "    <tr>\n",
       "      <th>29</th>\n",
       "      <td>1.0</td>\n",
       "      <td>2017-08-14</td>\n",
       "      <td>SW</td>\n",
       "      <td>07:06:17</td>\n",
       "      <td>07:07:07</td>\n",
       "      <td>25577</td>\n",
       "      <td>25627</td>\n",
       "    </tr>\n",
       "    <tr>\n",
       "      <th>32</th>\n",
       "      <td>1.0</td>\n",
       "      <td>2017-08-14</td>\n",
       "      <td>SW</td>\n",
       "      <td>07:08:34</td>\n",
       "      <td>07:37:11</td>\n",
       "      <td>25714</td>\n",
       "      <td>27431</td>\n",
       "    </tr>\n",
       "    <tr>\n",
       "      <th>34</th>\n",
       "      <td>1.0</td>\n",
       "      <td>2017-08-14</td>\n",
       "      <td>SW</td>\n",
       "      <td>07:37:30</td>\n",
       "      <td>07:42:27</td>\n",
       "      <td>27450</td>\n",
       "      <td>27747</td>\n",
       "    </tr>\n",
       "  </tbody>\n",
       "</table>\n",
       "</div>"
      ],
      "text/plain": [
       "    DayNo       Date Behaviour StartTime FinishTime  start_time  finish_time\n",
       "23    1.0 2017-08-14        SW  07:00:14   07:00:47       25214        25247\n",
       "25    1.0 2017-08-14        SW  07:00:58   07:04:55       25258        25495\n",
       "29    1.0 2017-08-14        SW  07:06:17   07:07:07       25577        25627\n",
       "32    1.0 2017-08-14        SW  07:08:34   07:37:11       25714        27431\n",
       "34    1.0 2017-08-14        SW  07:37:30   07:42:27       27450        27747"
      ]
     },
     "execution_count": 239,
     "metadata": {},
     "output_type": "execute_result"
    }
   ],
   "source": [
    "#create subset data frame with just 1 day and 1 behaviour\n",
    "zoo_SW_1 = zoo[(zoo.Behaviour == 'SW') & (zoo.DayNo == 1.0)]\n",
    "zoo_SW_1.head()"
   ]
  },
  {
   "cell_type": "code",
   "execution_count": 240,
   "metadata": {
    "collapsed": false
   },
   "outputs": [
    {
     "data": {
      "text/html": [
       "<div>\n",
       "<table border=\"1\" class=\"dataframe\">\n",
       "  <thead>\n",
       "    <tr style=\"text-align: right;\">\n",
       "      <th></th>\n",
       "      <th>Behaviour</th>\n",
       "      <th>DayNo</th>\n",
       "    </tr>\n",
       "    <tr>\n",
       "      <th>time</th>\n",
       "      <th></th>\n",
       "      <th></th>\n",
       "    </tr>\n",
       "  </thead>\n",
       "  <tbody>\n",
       "    <tr>\n",
       "      <th>05:00:00</th>\n",
       "      <td>SW</td>\n",
       "      <td>1</td>\n",
       "    </tr>\n",
       "    <tr>\n",
       "      <th>05:00:01</th>\n",
       "      <td>SW</td>\n",
       "      <td>1</td>\n",
       "    </tr>\n",
       "    <tr>\n",
       "      <th>05:00:02</th>\n",
       "      <td>SW</td>\n",
       "      <td>1</td>\n",
       "    </tr>\n",
       "    <tr>\n",
       "      <th>05:00:03</th>\n",
       "      <td>SW</td>\n",
       "      <td>1</td>\n",
       "    </tr>\n",
       "    <tr>\n",
       "      <th>05:00:04</th>\n",
       "      <td>SW</td>\n",
       "      <td>1</td>\n",
       "    </tr>\n",
       "  </tbody>\n",
       "</table>\n",
       "</div>"
      ],
      "text/plain": [
       "         Behaviour  DayNo\n",
       "time                     \n",
       "05:00:00        SW      1\n",
       "05:00:01        SW      1\n",
       "05:00:02        SW      1\n",
       "05:00:03        SW      1\n",
       "05:00:04        SW      1"
      ]
     },
     "execution_count": 240,
     "metadata": {},
     "output_type": "execute_result"
    }
   ],
   "source": [
    "#create new data frame\n",
    "day1_SW_dict = {'DayNo': 1, 'Behaviour': 'SW', 'time' : pd.timedelta_range(start='05:00:00', end='19:59:59', freq='1S')}\n",
    "day1_SW = pd.DataFrame(day1_SW_dict)\n",
    "day1_SW = day1_SW.set_index('time')\n",
    "day1_SW.head()"
   ]
  },
  {
   "cell_type": "code",
   "execution_count": 241,
   "metadata": {
    "collapsed": true
   },
   "outputs": [],
   "source": [
    "#create list of start times\n",
    "start = zoo_SW_1['start_time'].tolist()\n",
    "finish = zoo_SW_1['finish_time'].tolist()\n"
   ]
  },
  {
   "cell_type": "code",
   "execution_count": 242,
   "metadata": {
    "collapsed": false
   },
   "outputs": [],
   "source": [
    "#create list of yes and no entries\n",
    "day1_SW['yes_no'] = yes_no_every_second(start, finish)\n"
   ]
  },
  {
   "cell_type": "code",
   "execution_count": 243,
   "metadata": {
    "collapsed": false
   },
   "outputs": [],
   "source": [
    "#convert to %TSB in 15 minute intervals\n",
    "TSB = (day1_SW['yes_no']).resample('15min').sum().apply(lambda x: (float(x)/900)*100)\n"
   ]
  },
  {
   "cell_type": "code",
   "execution_count": null,
   "metadata": {
    "collapsed": false
   },
   "outputs": [],
   "source": []
  },
  {
   "cell_type": "code",
   "execution_count": null,
   "metadata": {
    "collapsed": true
   },
   "outputs": [],
   "source": []
  }
 ],
 "metadata": {
  "kernelspec": {
   "display_name": "Python 2",
   "language": "python",
   "name": "python2"
  },
  "language_info": {
   "codemirror_mode": {
    "name": "ipython",
    "version": 2
   },
   "file_extension": ".py",
   "mimetype": "text/x-python",
   "name": "python",
   "nbconvert_exporter": "python",
   "pygments_lexer": "ipython2",
   "version": "2.7.13"
  }
 },
 "nbformat": 4,
 "nbformat_minor": 2
}
